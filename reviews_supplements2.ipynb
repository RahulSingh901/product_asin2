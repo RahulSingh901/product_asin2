{
 "cells": [
  {
   "cell_type": "code",
   "execution_count": 6,
   "id": "6478e91c-8f48-4409-803c-430ea9113747",
   "metadata": {},
   "outputs": [],
   "source": [
    "import numpy as np\n",
    "import pandas as pd\n",
    "import matplotlib.pyplot as plt\n",
    "%matplotlib inline\n",
    "import seaborn as sns"
   ]
  },
  {
   "cell_type": "code",
   "execution_count": 4,
   "id": "c6c6a929-1320-4a62-83a3-ab301ed432dc",
   "metadata": {},
   "outputs": [],
   "source": [
    "df=pd.read_csv('reviews_supplements.csv', encoding= 'unicode_escape')"
   ]
  },
  {
   "cell_type": "code",
   "execution_count": 5,
   "id": "23320d50-d74c-491a-9540-2801c5958c42",
   "metadata": {},
   "outputs": [
    {
     "data": {
      "text/plain": [
       "(16671, 11)"
      ]
     },
     "execution_count": 5,
     "metadata": {},
     "output_type": "execute_result"
    }
   ],
   "source": [
    "df.shape"
   ]
  },
  {
   "cell_type": "code",
   "execution_count": 13,
   "id": "da389b2c-0f84-47e4-ab06-1a2ba897c4de",
   "metadata": {},
   "outputs": [
    {
     "data": {
      "text/html": [
       "<div>\n",
       "<style scoped>\n",
       "    .dataframe tbody tr th:only-of-type {\n",
       "        vertical-align: middle;\n",
       "    }\n",
       "\n",
       "    .dataframe tbody tr th {\n",
       "        vertical-align: top;\n",
       "    }\n",
       "\n",
       "    .dataframe thead th {\n",
       "        text-align: right;\n",
       "    }\n",
       "</style>\n",
       "<table border=\"1\" class=\"dataframe\">\n",
       "  <thead>\n",
       "    <tr style=\"text-align: right;\">\n",
       "      <th></th>\n",
       "      <th>rating</th>\n",
       "      <th>title</th>\n",
       "      <th>text</th>\n",
       "      <th>asin</th>\n",
       "      <th>parent_asin</th>\n",
       "      <th>user_id</th>\n",
       "      <th>timestamp</th>\n",
       "      <th>helpful_vote</th>\n",
       "      <th>verified_purchase</th>\n",
       "      <th>date</th>\n",
       "      <th>time</th>\n",
       "    </tr>\n",
       "  </thead>\n",
       "  <tbody>\n",
       "    <tr>\n",
       "      <th>0</th>\n",
       "      <td>4</td>\n",
       "      <td>B Complex in gel cap form</td>\n",
       "      <td>I bought this along with Vit C in gel cap form...</td>\n",
       "      <td>B00012ND5G</td>\n",
       "      <td>B00012ND5G</td>\n",
       "      <td>AGDVFFLJWAQ3ULNNKF4LXID2RVSQ</td>\n",
       "      <td>2009-12-11 00:37:33</td>\n",
       "      <td>1</td>\n",
       "      <td>True</td>\n",
       "      <td>2009-12-11</td>\n",
       "      <td>00:37</td>\n",
       "    </tr>\n",
       "    <tr>\n",
       "      <th>1</th>\n",
       "      <td>5</td>\n",
       "      <td>Five Stars</td>\n",
       "      <td>great product</td>\n",
       "      <td>B00013Z0ZQ</td>\n",
       "      <td>B00013Z0ZQ</td>\n",
       "      <td>AG3BSKXHDGP6E3EGQD2SXCK6KFQQ</td>\n",
       "      <td>2015-01-04 03:11:26</td>\n",
       "      <td>0</td>\n",
       "      <td>True</td>\n",
       "      <td>2015-01-04</td>\n",
       "      <td>03:11</td>\n",
       "    </tr>\n",
       "    <tr>\n",
       "      <th>2</th>\n",
       "      <td>5</td>\n",
       "      <td>Five Stars</td>\n",
       "      <td>Came as expectedly</td>\n",
       "      <td>B00013Z0ZQ</td>\n",
       "      <td>B00013Z0ZQ</td>\n",
       "      <td>AHG2WKFD4LXPC46WWC6JMQGX52JA</td>\n",
       "      <td>2015-09-27 19:15:33</td>\n",
       "      <td>0</td>\n",
       "      <td>True</td>\n",
       "      <td>2015-09-27</td>\n",
       "      <td>19:15</td>\n",
       "    </tr>\n",
       "    <tr>\n",
       "      <th>3</th>\n",
       "      <td>5</td>\n",
       "      <td>Vitamin Shoppe Dry Vitamin A</td>\n",
       "      <td>Excellent Product ..... Fast Delivery ....... ...</td>\n",
       "      <td>B00013Z1KA</td>\n",
       "      <td>B00013Z1KA</td>\n",
       "      <td>AEOF7RT3AC4ACRX5HGIP2V3BNIHA</td>\n",
       "      <td>2019-02-09 19:33:16.911</td>\n",
       "      <td>0</td>\n",
       "      <td>True</td>\n",
       "      <td>2019-02-09</td>\n",
       "      <td>19:33</td>\n",
       "    </tr>\n",
       "    <tr>\n",
       "      <th>4</th>\n",
       "      <td>5</td>\n",
       "      <td>Un producto que compro regularmente</td>\n",
       "      <td>Es muy buena vitamina</td>\n",
       "      <td>B00013Z1KA</td>\n",
       "      <td>B00013Z1KA</td>\n",
       "      <td>AGW2WETWQRL2PKUGTL2LU7IJ2BPQ</td>\n",
       "      <td>2022-07-25 14:11:10.936</td>\n",
       "      <td>0</td>\n",
       "      <td>True</td>\n",
       "      <td>2022-07-25</td>\n",
       "      <td>14:11</td>\n",
       "    </tr>\n",
       "    <tr>\n",
       "      <th>5</th>\n",
       "      <td>5</td>\n",
       "      <td>Natural Sources</td>\n",
       "      <td>I have been taking this product for years.  I ...</td>\n",
       "      <td>B00014D0IY</td>\n",
       "      <td>B00014D0IY</td>\n",
       "      <td>AHAHKQ4GXWPCBMPUBHOOGKBQWKAA</td>\n",
       "      <td>2015-12-18 14:05:08</td>\n",
       "      <td>0</td>\n",
       "      <td>True</td>\n",
       "      <td>2015-12-18</td>\n",
       "      <td>14:05</td>\n",
       "    </tr>\n",
       "    <tr>\n",
       "      <th>6</th>\n",
       "      <td>5</td>\n",
       "      <td>Liver Support supplement</td>\n",
       "      <td>I have had good results with this support vita...</td>\n",
       "      <td>B00014DY62</td>\n",
       "      <td>B00014DY62</td>\n",
       "      <td>AHZSW5KOLYC4RD2N5BMNT2RTZNMQ</td>\n",
       "      <td>2014-03-23 17:52:36</td>\n",
       "      <td>0</td>\n",
       "      <td>True</td>\n",
       "      <td>2014-03-23</td>\n",
       "      <td>17:52</td>\n",
       "    </tr>\n",
       "    <tr>\n",
       "      <th>7</th>\n",
       "      <td>4</td>\n",
       "      <td>I feel this is working, had chemotherapy and a...</td>\n",
       "      <td>I feel this is working, had chemotherapy and a...</td>\n",
       "      <td>B00014DY62</td>\n",
       "      <td>B00014DY62</td>\n",
       "      <td>AFNIV34LQAGE52FIFTCOPDATQROA</td>\n",
       "      <td>2016-05-13 06:14:09</td>\n",
       "      <td>0</td>\n",
       "      <td>True</td>\n",
       "      <td>2016-05-13</td>\n",
       "      <td>06:14</td>\n",
       "    </tr>\n",
       "    <tr>\n",
       "      <th>8</th>\n",
       "      <td>5</td>\n",
       "      <td>Five Stars</td>\n",
       "      <td>ð</td>\n",
       "      <td>B00014DY62</td>\n",
       "      <td>B00014DY62</td>\n",
       "      <td>AGBGE7ELMWGDUKMFO7QDPLACZRFQ</td>\n",
       "      <td>2016-06-29 00:05:53</td>\n",
       "      <td>0</td>\n",
       "      <td>True</td>\n",
       "      <td>2016-06-29</td>\n",
       "      <td>00:05</td>\n",
       "    </tr>\n",
       "    <tr>\n",
       "      <th>9</th>\n",
       "      <td>5</td>\n",
       "      <td>Five Stars</td>\n",
       "      <td>Very good value!</td>\n",
       "      <td>B00014DY62</td>\n",
       "      <td>B00014DY62</td>\n",
       "      <td>AHM5DKU6HRHFSPOM6N4AY5AVMORQ</td>\n",
       "      <td>2016-12-08 20:19:07</td>\n",
       "      <td>0</td>\n",
       "      <td>True</td>\n",
       "      <td>2016-12-08</td>\n",
       "      <td>20:19</td>\n",
       "    </tr>\n",
       "  </tbody>\n",
       "</table>\n",
       "</div>"
      ],
      "text/plain": [
       "   rating                                              title  \\\n",
       "0       4                          B Complex in gel cap form   \n",
       "1       5                                         Five Stars   \n",
       "2       5                                         Five Stars   \n",
       "3       5                       Vitamin Shoppe Dry Vitamin A   \n",
       "4       5                Un producto que compro regularmente   \n",
       "5       5                                    Natural Sources   \n",
       "6       5                           Liver Support supplement   \n",
       "7       4  I feel this is working, had chemotherapy and a...   \n",
       "8       5                                         Five Stars   \n",
       "9       5                                         Five Stars   \n",
       "\n",
       "                                                text        asin parent_asin  \\\n",
       "0  I bought this along with Vit C in gel cap form...  B00012ND5G  B00012ND5G   \n",
       "1                                      great product  B00013Z0ZQ  B00013Z0ZQ   \n",
       "2                                 Came as expectedly  B00013Z0ZQ  B00013Z0ZQ   \n",
       "3  Excellent Product ..... Fast Delivery ....... ...  B00013Z1KA  B00013Z1KA   \n",
       "4                              Es muy buena vitamina  B00013Z1KA  B00013Z1KA   \n",
       "5  I have been taking this product for years.  I ...  B00014D0IY  B00014D0IY   \n",
       "6  I have had good results with this support vita...  B00014DY62  B00014DY62   \n",
       "7  I feel this is working, had chemotherapy and a...  B00014DY62  B00014DY62   \n",
       "8                                               ð  B00014DY62  B00014DY62   \n",
       "9                                   Very good value!  B00014DY62  B00014DY62   \n",
       "\n",
       "                        user_id                timestamp  helpful_vote  \\\n",
       "0  AGDVFFLJWAQ3ULNNKF4LXID2RVSQ      2009-12-11 00:37:33             1   \n",
       "1  AG3BSKXHDGP6E3EGQD2SXCK6KFQQ      2015-01-04 03:11:26             0   \n",
       "2  AHG2WKFD4LXPC46WWC6JMQGX52JA      2015-09-27 19:15:33             0   \n",
       "3  AEOF7RT3AC4ACRX5HGIP2V3BNIHA  2019-02-09 19:33:16.911             0   \n",
       "4  AGW2WETWQRL2PKUGTL2LU7IJ2BPQ  2022-07-25 14:11:10.936             0   \n",
       "5  AHAHKQ4GXWPCBMPUBHOOGKBQWKAA      2015-12-18 14:05:08             0   \n",
       "6  AHZSW5KOLYC4RD2N5BMNT2RTZNMQ      2014-03-23 17:52:36             0   \n",
       "7  AFNIV34LQAGE52FIFTCOPDATQROA      2016-05-13 06:14:09             0   \n",
       "8  AGBGE7ELMWGDUKMFO7QDPLACZRFQ      2016-06-29 00:05:53             0   \n",
       "9  AHM5DKU6HRHFSPOM6N4AY5AVMORQ      2016-12-08 20:19:07             0   \n",
       "\n",
       "   verified_purchase        date   time  \n",
       "0               True  2009-12-11  00:37  \n",
       "1               True  2015-01-04  03:11  \n",
       "2               True  2015-09-27  19:15  \n",
       "3               True  2019-02-09  19:33  \n",
       "4               True  2022-07-25  14:11  \n",
       "5               True  2015-12-18  14:05  \n",
       "6               True  2014-03-23  17:52  \n",
       "7               True  2016-05-13  06:14  \n",
       "8               True  2016-06-29  00:05  \n",
       "9               True  2016-12-08  20:19  "
      ]
     },
     "execution_count": 13,
     "metadata": {},
     "output_type": "execute_result"
    }
   ],
   "source": [
    "df.head(10)"
   ]
  },
  {
   "cell_type": "code",
   "execution_count": 7,
   "id": "6740e42d-b190-4566-a93f-cf7b47a926ea",
   "metadata": {},
   "outputs": [
    {
     "name": "stdout",
     "output_type": "stream",
     "text": [
      "<class 'pandas.core.frame.DataFrame'>\n",
      "RangeIndex: 16671 entries, 0 to 16670\n",
      "Data columns (total 11 columns):\n",
      " #   Column             Non-Null Count  Dtype \n",
      "---  ------             --------------  ----- \n",
      " 0   rating             16671 non-null  int64 \n",
      " 1   title              16664 non-null  object\n",
      " 2   text               16666 non-null  object\n",
      " 3   asin               16671 non-null  object\n",
      " 4   parent_asin        16671 non-null  object\n",
      " 5   user_id            16671 non-null  object\n",
      " 6   timestamp          16671 non-null  object\n",
      " 7   helpful_vote       16671 non-null  int64 \n",
      " 8   verified_purchase  16671 non-null  bool  \n",
      " 9   date               16671 non-null  object\n",
      " 10  time               16671 non-null  object\n",
      "dtypes: bool(1), int64(2), object(8)\n",
      "memory usage: 1.3+ MB\n"
     ]
    }
   ],
   "source": [
    "df.info()"
   ]
  },
  {
   "cell_type": "code",
   "execution_count": 8,
   "id": "477ea202-642f-49ac-9f0f-040852dfc4e9",
   "metadata": {},
   "outputs": [
    {
     "data": {
      "text/plain": [
       "Index(['rating', 'title', 'text', 'asin', 'parent_asin', 'user_id',\n",
       "       'timestamp', 'helpful_vote', 'verified_purchase', 'date', 'time'],\n",
       "      dtype='object')"
      ]
     },
     "execution_count": 8,
     "metadata": {},
     "output_type": "execute_result"
    }
   ],
   "source": [
    "df.columns"
   ]
  },
  {
   "cell_type": "code",
   "execution_count": 9,
   "id": "1e1108f4-b52d-40d7-9211-b4eb40e5b362",
   "metadata": {},
   "outputs": [
    {
     "data": {
      "text/plain": [
       "rating               0\n",
       "title                7\n",
       "text                 5\n",
       "asin                 0\n",
       "parent_asin          0\n",
       "user_id              0\n",
       "timestamp            0\n",
       "helpful_vote         0\n",
       "verified_purchase    0\n",
       "date                 0\n",
       "time                 0\n",
       "dtype: int64"
      ]
     },
     "execution_count": 9,
     "metadata": {},
     "output_type": "execute_result"
    }
   ],
   "source": [
    "pd.isnull(df).sum()"
   ]
  },
  {
   "cell_type": "code",
   "execution_count": 11,
   "id": "9ec78931-00d2-4af3-a67e-f9cde4f86046",
   "metadata": {},
   "outputs": [],
   "source": [
    "df.dropna(inplace=True)"
   ]
  },
  {
   "cell_type": "code",
   "execution_count": 12,
   "id": "293f99f3-29c5-49b7-8563-0b053b815d2d",
   "metadata": {},
   "outputs": [
    {
     "data": {
      "text/plain": [
       "(16660, 11)"
      ]
     },
     "execution_count": 12,
     "metadata": {},
     "output_type": "execute_result"
    }
   ],
   "source": [
    "df.shape"
   ]
  },
  {
   "cell_type": "code",
   "execution_count": 15,
   "id": "699d285f-f558-460c-ab4b-62ed19ec6198",
   "metadata": {},
   "outputs": [
    {
     "data": {
      "text/plain": [
       "Index(['rating', 'title', 'text', 'asin', 'parent_asin', 'user_id',\n",
       "       'timestamp', 'helpful_vote', 'verified_purchase', 'date', 'time'],\n",
       "      dtype='object')"
      ]
     },
     "execution_count": 15,
     "metadata": {},
     "output_type": "execute_result"
    }
   ],
   "source": [
    "df.columns"
   ]
  },
  {
   "cell_type": "code",
   "execution_count": 21,
   "id": "6d07d5cb-78b2-41d0-a502-8695c908b0b7",
   "metadata": {},
   "outputs": [
    {
     "data": {
      "image/png": "[encoded data removed]",
      "text/plain": [
       "<Figure size 640x480 with 1 Axes>"
      ]
     },
     "metadata": {},
     "output_type": "display_data"
    }
   ],
   "source": [
    "ax=sns.countplot(x='parent_asin', data=df)\n",
    "for bars in ax.containers:\n",
    "    ax.bar_label(bars)"
   ]
  },
  {
   "cell_type": "code",
   "execution_count": 23,
   "id": "6cb40dd5-2a8b-4ccd-8e04-200327fe68b3",
   "metadata": {},
   "outputs": [
    {
     "data": {
      "text/html": [
       "<div>\n",
       "<style scoped>\n",
       "    .dataframe tbody tr th:only-of-type {\n",
       "        vertical-align: middle;\n",
       "    }\n",
       "\n",
       "    .dataframe tbody tr th {\n",
       "        vertical-align: top;\n",
       "    }\n",
       "\n",
       "    .dataframe thead th {\n",
       "        text-align: right;\n",
       "    }\n",
       "</style>\n",
       "<table border=\"1\" class=\"dataframe\">\n",
       "  <thead>\n",
       "    <tr style=\"text-align: right;\">\n",
       "      <th></th>\n",
       "      <th>parent_asin</th>\n",
       "      <th>user_id</th>\n",
       "    </tr>\n",
       "  </thead>\n",
       "  <tbody>\n",
       "    <tr>\n",
       "      <th>407</th>\n",
       "      <td>B00OPH6TNQ</td>\n",
       "      <td>AHZWL4Q6JYXPHOEFRGC3QIUDINLQ</td>\n",
       "    </tr>\n",
       "    <tr>\n",
       "      <th>283</th>\n",
       "      <td>B00C7INGYK</td>\n",
       "      <td>AHZTB3N2BUTFZMPWAVFQ2L3NF7TA</td>\n",
       "    </tr>\n",
       "    <tr>\n",
       "      <th>4</th>\n",
       "      <td>B00014DY62</td>\n",
       "      <td>AHZSW5KOLYC4RD2N5BMNT2RTZNMQAFNIV34LQAGE52FIFT...</td>\n",
       "    </tr>\n",
       "    <tr>\n",
       "      <th>1018</th>\n",
       "      <td>B074V2WH3V</td>\n",
       "      <td>AHZSHLGTQZWSFOI5EJUSDWTHITPQ</td>\n",
       "    </tr>\n",
       "    <tr>\n",
       "      <th>1138</th>\n",
       "      <td>B079YGRV9H</td>\n",
       "      <td>AHZIZA26SFHN3MD3NOX6F53ZHZ7Q</td>\n",
       "    </tr>\n",
       "    <tr>\n",
       "      <th>...</th>\n",
       "      <td>...</td>\n",
       "      <td>...</td>\n",
       "    </tr>\n",
       "    <tr>\n",
       "      <th>769</th>\n",
       "      <td>B01KYKCT5E</td>\n",
       "      <td>AE2HEGA22OHIZLCJHEKJEWOGWFFQAEG7F3HVHTVQACOMCJ...</td>\n",
       "    </tr>\n",
       "    <tr>\n",
       "      <th>1377</th>\n",
       "      <td>B07QS4TPMW</td>\n",
       "      <td>AE2BSX5LE2J5ZCXS42FPB2TLGSXQAHSF7LMAUYE56OOUVU...</td>\n",
       "    </tr>\n",
       "    <tr>\n",
       "      <th>525</th>\n",
       "      <td>B014TEH564</td>\n",
       "      <td>AE2BFEYWR23SOXOXNQUYSJGLVFGQAHPA2VMHFE7WC6REOP...</td>\n",
       "    </tr>\n",
       "    <tr>\n",
       "      <th>681</th>\n",
       "      <td>B01I417SO2</td>\n",
       "      <td>AE2ASY7TEBA7VO3OHDIMQAUVT2IA</td>\n",
       "    </tr>\n",
       "    <tr>\n",
       "      <th>618</th>\n",
       "      <td>B01DAKXTJA</td>\n",
       "      <td>AE24GJD7LU2CDYQLP6PYTC3XZNAA</td>\n",
       "    </tr>\n",
       "  </tbody>\n",
       "</table>\n",
       "<p>1498 rows × 2 columns</p>\n",
       "</div>"
      ],
      "text/plain": [
       "     parent_asin                                            user_id\n",
       "407   B00OPH6TNQ                       AHZWL4Q6JYXPHOEFRGC3QIUDINLQ\n",
       "283   B00C7INGYK                       AHZTB3N2BUTFZMPWAVFQ2L3NF7TA\n",
       "4     B00014DY62  AHZSW5KOLYC4RD2N5BMNT2RTZNMQAFNIV34LQAGE52FIFT...\n",
       "1018  B074V2WH3V                       AHZSHLGTQZWSFOI5EJUSDWTHITPQ\n",
       "1138  B079YGRV9H                       AHZIZA26SFHN3MD3NOX6F53ZHZ7Q\n",
       "...          ...                                                ...\n",
       "769   B01KYKCT5E  AE2HEGA22OHIZLCJHEKJEWOGWFFQAEG7F3HVHTVQACOMCJ...\n",
       "1377  B07QS4TPMW  AE2BSX5LE2J5ZCXS42FPB2TLGSXQAHSF7LMAUYE56OOUVU...\n",
       "525   B014TEH564  AE2BFEYWR23SOXOXNQUYSJGLVFGQAHPA2VMHFE7WC6REOP...\n",
       "681   B01I417SO2                       AE2ASY7TEBA7VO3OHDIMQAUVT2IA\n",
       "618   B01DAKXTJA                       AE24GJD7LU2CDYQLP6PYTC3XZNAA\n",
       "\n",
       "[1498 rows x 2 columns]"
      ]
     },
     "execution_count": 23,
     "metadata": {},
     "output_type": "execute_result"
    }
   ],
   "source": [
    "df.groupby(['parent_asin'], as_index=False)['user_id'].sum().sort_values(by='user_id',ascending=False)"
   ]
  },
  {
   "cell_type": "code",
   "execution_count": 22,
   "id": "21b04879-c6fd-44a6-99f3-67d55e84066a",
   "metadata": {},
   "outputs": [
    {
     "data": {
      "text/plain": [
       "Index(['rating', 'title', 'text', 'asin', 'parent_asin', 'user_id',\n",
       "       'timestamp', 'helpful_vote', 'verified_purchase', 'date', 'time'],\n",
       "      dtype='object')"
      ]
     },
     "execution_count": 22,
     "metadata": {},
     "output_type": "execute_result"
    }
   ],
   "source": [
    "df.columns"
   ]
  },
  {
   "cell_type": "code",
   "execution_count": 24,
   "id": "d62ee67d-79f7-4ad9-883d-e4a32a9af1fb",
   "metadata": {},
   "outputs": [
    {
     "data": {
      "text/html": [
       "<div>\n",
       "<style scoped>\n",
       "    .dataframe tbody tr th:only-of-type {\n",
       "        vertical-align: middle;\n",
       "    }\n",
       "\n",
       "    .dataframe tbody tr th {\n",
       "        vertical-align: top;\n",
       "    }\n",
       "\n",
       "    .dataframe thead th {\n",
       "        text-align: right;\n",
       "    }\n",
       "</style>\n",
       "<table border=\"1\" class=\"dataframe\">\n",
       "  <thead>\n",
       "    <tr style=\"text-align: right;\">\n",
       "      <th></th>\n",
       "      <th>asin</th>\n",
       "      <th>user_id</th>\n",
       "    </tr>\n",
       "  </thead>\n",
       "  <tbody>\n",
       "    <tr>\n",
       "      <th>440</th>\n",
       "      <td>B00OPH6TNQ</td>\n",
       "      <td>AHZWL4Q6JYXPHOEFRGC3QIUDINLQ</td>\n",
       "    </tr>\n",
       "    <tr>\n",
       "      <th>311</th>\n",
       "      <td>B00C7INGYK</td>\n",
       "      <td>AHZTB3N2BUTFZMPWAVFQ2L3NF7TA</td>\n",
       "    </tr>\n",
       "    <tr>\n",
       "      <th>4</th>\n",
       "      <td>B00014DY62</td>\n",
       "      <td>AHZSW5KOLYC4RD2N5BMNT2RTZNMQAFNIV34LQAGE52FIFT...</td>\n",
       "    </tr>\n",
       "    <tr>\n",
       "      <th>1068</th>\n",
       "      <td>B074V2WH3V</td>\n",
       "      <td>AHZSHLGTQZWSFOI5EJUSDWTHITPQ</td>\n",
       "    </tr>\n",
       "    <tr>\n",
       "      <th>328</th>\n",
       "      <td>B00E4MHVU2</td>\n",
       "      <td>AHZLZCBXJQGYBO7MNUFOYGZDTOIA</td>\n",
       "    </tr>\n",
       "    <tr>\n",
       "      <th>...</th>\n",
       "      <td>...</td>\n",
       "      <td>...</td>\n",
       "    </tr>\n",
       "    <tr>\n",
       "      <th>818</th>\n",
       "      <td>B01KYKCT5E</td>\n",
       "      <td>AE2HEGA22OHIZLCJHEKJEWOGWFFQAEG7F3HVHTVQACOMCJ...</td>\n",
       "    </tr>\n",
       "    <tr>\n",
       "      <th>1443</th>\n",
       "      <td>B07QS4TPMW</td>\n",
       "      <td>AE2BSX5LE2J5ZCXS42FPB2TLGSXQAHSF7LMAUYE56OOUVU...</td>\n",
       "    </tr>\n",
       "    <tr>\n",
       "      <th>563</th>\n",
       "      <td>B014TEH564</td>\n",
       "      <td>AE2BFEYWR23SOXOXNQUYSJGLVFGQAHPA2VMHFE7WC6REOP...</td>\n",
       "    </tr>\n",
       "    <tr>\n",
       "      <th>727</th>\n",
       "      <td>B01I417SO2</td>\n",
       "      <td>AE2ASY7TEBA7VO3OHDIMQAUVT2IA</td>\n",
       "    </tr>\n",
       "    <tr>\n",
       "      <th>658</th>\n",
       "      <td>B01DAKXTJA</td>\n",
       "      <td>AE24GJD7LU2CDYQLP6PYTC3XZNAA</td>\n",
       "    </tr>\n",
       "  </tbody>\n",
       "</table>\n",
       "<p>1557 rows × 2 columns</p>\n",
       "</div>"
      ],
      "text/plain": [
       "            asin                                            user_id\n",
       "440   B00OPH6TNQ                       AHZWL4Q6JYXPHOEFRGC3QIUDINLQ\n",
       "311   B00C7INGYK                       AHZTB3N2BUTFZMPWAVFQ2L3NF7TA\n",
       "4     B00014DY62  AHZSW5KOLYC4RD2N5BMNT2RTZNMQAFNIV34LQAGE52FIFT...\n",
       "1068  B074V2WH3V                       AHZSHLGTQZWSFOI5EJUSDWTHITPQ\n",
       "328   B00E4MHVU2                       AHZLZCBXJQGYBO7MNUFOYGZDTOIA\n",
       "...          ...                                                ...\n",
       "818   B01KYKCT5E  AE2HEGA22OHIZLCJHEKJEWOGWFFQAEG7F3HVHTVQACOMCJ...\n",
       "1443  B07QS4TPMW  AE2BSX5LE2J5ZCXS42FPB2TLGSXQAHSF7LMAUYE56OOUVU...\n",
       "563   B014TEH564  AE2BFEYWR23SOXOXNQUYSJGLVFGQAHPA2VMHFE7WC6REOP...\n",
       "727   B01I417SO2                       AE2ASY7TEBA7VO3OHDIMQAUVT2IA\n",
       "658   B01DAKXTJA                       AE24GJD7LU2CDYQLP6PYTC3XZNAA\n",
       "\n",
       "[1557 rows x 2 columns]"
      ]
     },
     "execution_count": 24,
     "metadata": {},
     "output_type": "execute_result"
    }
   ],
   "source": [
    "df.groupby(['asin'], as_index=False)['user_id'].sum().sort_values(by='user_id',ascending=False)"
   ]
  },
  {
   "cell_type": "code",
   "execution_count": 25,
   "id": "04f32ee2-a67c-4389-a87a-aedd1a82c8b1",
   "metadata": {
    "scrolled": true
   },
   "outputs": [
    {
     "data": {
      "image/png": "[encoded data removed]",
      "text/plain": [
       "<Figure size 640x480 with 1 Axes>"
      ]
     },
     "metadata": {},
     "output_type": "display_data"
    }
   ],
   "source": [
    "ax=sns.countplot(x='asin',data=df)\n",
    "for bars in ax.containers:\n",
    "    ax.bar_label(bars)"
   ]
  },
  {
   "cell_type": "code",
   "execution_count": 26,
   "id": "6085f21f-bb67-4880-b2b6-f4796cfe7a2c",
   "metadata": {},
   "outputs": [
    {
     "data": {
      "text/plain": [
       "Index(['rating', 'title', 'text', 'asin', 'parent_asin', 'user_id',\n",
       "       'timestamp', 'helpful_vote', 'verified_purchase', 'date', 'time'],\n",
       "      dtype='object')"
      ]
     },
     "execution_count": 26,
     "metadata": {},
     "output_type": "execute_result"
    }
   ],
   "source": [
    "df.columns"
   ]
  },
  {
   "cell_type": "code",
   "execution_count": 8,
   "id": "5ecc5b1d-fa2c-43ea-bfeb-202177dd2a91",
   "metadata": {},
   "outputs": [
    {
     "data": {
      "image/png": "[encoded data removed]",
      "text/plain": [
       "<Figure size 640x480 with 1 Axes>"
      ]
     },
     "metadata": {},
     "output_type": "display_data"
    }
   ],
   "source": [
    "ax=sns.countplot(x='helpful_vote', data=df)\n",
    "for bars in ax.containers:\n",
    "    ax.bar_label(bars)"
   ]
  },
  {
   "cell_type": "code",
   "execution_count": 11,
   "id": "37587839-fb71-4af1-82e0-dcbaab59d218",
   "metadata": {},
   "outputs": [
    {
     "data": {
      "text/html": [
       "<div>\n",
       "<style scoped>\n",
       "    .dataframe tbody tr th:only-of-type {\n",
       "        vertical-align: middle;\n",
       "    }\n",
       "\n",
       "    .dataframe tbody tr th {\n",
       "        vertical-align: top;\n",
       "    }\n",
       "\n",
       "    .dataframe thead th {\n",
       "        text-align: right;\n",
       "    }\n",
       "</style>\n",
       "<table border=\"1\" class=\"dataframe\">\n",
       "  <thead>\n",
       "    <tr style=\"text-align: right;\">\n",
       "      <th></th>\n",
       "      <th>helpful_vote</th>\n",
       "      <th>user_id</th>\n",
       "    </tr>\n",
       "  </thead>\n",
       "  <tbody>\n",
       "    <tr>\n",
       "      <th>47</th>\n",
       "      <td>47</td>\n",
       "      <td>AHXTCWBWYRN7O77VLXPVK65HKWTQAHJ6GP43D3I4BVJDKV...</td>\n",
       "    </tr>\n",
       "    <tr>\n",
       "      <th>34</th>\n",
       "      <td>34</td>\n",
       "      <td>AHXO5VLK65SGRXIUQHWIRE74P7BAAHQOPVQSN7ZXYTUNWP...</td>\n",
       "    </tr>\n",
       "    <tr>\n",
       "      <th>78</th>\n",
       "      <td>134</td>\n",
       "      <td>AHVJRSNSY3ZEPHZ2TOCDEPAWBEYQ</td>\n",
       "    </tr>\n",
       "    <tr>\n",
       "      <th>66</th>\n",
       "      <td>72</td>\n",
       "      <td>AHQZPU3KHVRN3NLZFEJYYT3QTXEQAENHA7P2QFZV5AVTGP...</td>\n",
       "    </tr>\n",
       "    <tr>\n",
       "      <th>69</th>\n",
       "      <td>83</td>\n",
       "      <td>AHONNWUF3RAQTIWE5554KO6XNZQA</td>\n",
       "    </tr>\n",
       "    <tr>\n",
       "      <th>...</th>\n",
       "      <td>...</td>\n",
       "      <td>...</td>\n",
       "    </tr>\n",
       "    <tr>\n",
       "      <th>11</th>\n",
       "      <td>11</td>\n",
       "      <td>AEAPPKZXNMS2RJGYQ7B24YSKW4PAAF35JH4373TM7GQRJB...</td>\n",
       "    </tr>\n",
       "    <tr>\n",
       "      <th>64</th>\n",
       "      <td>70</td>\n",
       "      <td>AE6M4RIUIVSLFUMSZ3I6IX23T2QAAGPRPCCLHLP6M32J7P...</td>\n",
       "    </tr>\n",
       "    <tr>\n",
       "      <th>90</th>\n",
       "      <td>483</td>\n",
       "      <td>AE5YPKTGNY6C6OYU35QOVIMOHMLA</td>\n",
       "    </tr>\n",
       "    <tr>\n",
       "      <th>86</th>\n",
       "      <td>246</td>\n",
       "      <td>AE3GS3STRQHBZZFNJI4ZBQTRFPOA</td>\n",
       "    </tr>\n",
       "    <tr>\n",
       "      <th>57</th>\n",
       "      <td>58</td>\n",
       "      <td>AE3ACQSGG4MM6VXUZF7EVDUCDNNQ</td>\n",
       "    </tr>\n",
       "  </tbody>\n",
       "</table>\n",
       "<p>94 rows × 2 columns</p>\n",
       "</div>"
      ],
      "text/plain": [
       "    helpful_vote                                            user_id\n",
       "47            47  AHXTCWBWYRN7O77VLXPVK65HKWTQAHJ6GP43D3I4BVJDKV...\n",
       "34            34  AHXO5VLK65SGRXIUQHWIRE74P7BAAHQOPVQSN7ZXYTUNWP...\n",
       "78           134                       AHVJRSNSY3ZEPHZ2TOCDEPAWBEYQ\n",
       "66            72  AHQZPU3KHVRN3NLZFEJYYT3QTXEQAENHA7P2QFZV5AVTGP...\n",
       "69            83                       AHONNWUF3RAQTIWE5554KO6XNZQA\n",
       "..           ...                                                ...\n",
       "11            11  AEAPPKZXNMS2RJGYQ7B24YSKW4PAAF35JH4373TM7GQRJB...\n",
       "64            70  AE6M4RIUIVSLFUMSZ3I6IX23T2QAAGPRPCCLHLP6M32J7P...\n",
       "90           483                       AE5YPKTGNY6C6OYU35QOVIMOHMLA\n",
       "86           246                       AE3GS3STRQHBZZFNJI4ZBQTRFPOA\n",
       "57            58                       AE3ACQSGG4MM6VXUZF7EVDUCDNNQ\n",
       "\n",
       "[94 rows x 2 columns]"
      ]
     },
     "execution_count": 11,
     "metadata": {},
     "output_type": "execute_result"
    }
   ],
   "source": [
    "df.groupby(['helpful_vote'], as_index=False)['user_id'].sum().sort_values(by='user_id', ascending=False)"
   ]
  },
  {
   "cell_type": "code",
   "execution_count": 12,
   "id": "1a121d96-fed8-4999-81bf-d048efbe7165",
   "metadata": {},
   "outputs": [
    {
     "data": {
      "text/html": [
       "<div>\n",
       "<style scoped>\n",
       "    .dataframe tbody tr th:only-of-type {\n",
       "        vertical-align: middle;\n",
       "    }\n",
       "\n",
       "    .dataframe tbody tr th {\n",
       "        vertical-align: top;\n",
       "    }\n",
       "\n",
       "    .dataframe thead th {\n",
       "        text-align: right;\n",
       "    }\n",
       "</style>\n",
       "<table border=\"1\" class=\"dataframe\">\n",
       "  <thead>\n",
       "    <tr style=\"text-align: right;\">\n",
       "      <th></th>\n",
       "      <th>title</th>\n",
       "      <th>user_id</th>\n",
       "    </tr>\n",
       "  </thead>\n",
       "  <tbody>\n",
       "    <tr>\n",
       "      <th>9407</th>\n",
       "      <td>Vitamin B complex is a very important part of ...</td>\n",
       "      <td>AHZZJQYNVZUJNPNQ737ITGEQUB4A</td>\n",
       "    </tr>\n",
       "    <tr>\n",
       "      <th>10149</th>\n",
       "      <td>buring in my eyes and face</td>\n",
       "      <td>AHZZ3OXGITJ7DEORAZDDUCOSHP4A</td>\n",
       "    </tr>\n",
       "    <tr>\n",
       "      <th>423</th>\n",
       "      <td>Always looking for good brain supplements</td>\n",
       "      <td>AHZYYKIMBFCUASJX5QLJDRX36NEA</td>\n",
       "    </tr>\n",
       "    <tr>\n",
       "      <th>9534</th>\n",
       "      <td>We went around the world taking their suppleme...</td>\n",
       "      <td>AHZYXESPV7CW3O6NSCFQW5PJKEHQ</td>\n",
       "    </tr>\n",
       "    <tr>\n",
       "      <th>738</th>\n",
       "      <td>Bathroom need to have.</td>\n",
       "      <td>AHZYTGDSMINB2SHIDTW5Z3OEGTAA</td>\n",
       "    </tr>\n",
       "    <tr>\n",
       "      <th>...</th>\n",
       "      <td>...</td>\n",
       "      <td>...</td>\n",
       "    </tr>\n",
       "    <tr>\n",
       "      <th>4216</th>\n",
       "      <td>Highly disappointed!</td>\n",
       "      <td>AE23LU6FD4Q7TJN6VDIX4E4ZOKRA</td>\n",
       "    </tr>\n",
       "    <tr>\n",
       "      <th>9805</th>\n",
       "      <td>Works great, will be ordering much more in the...</td>\n",
       "      <td>AE22EF57IWBRYFUCRPUY7NUT2H5Q</td>\n",
       "    </tr>\n",
       "    <tr>\n",
       "      <th>7780</th>\n",
       "      <td>Sleek scale easy to read.</td>\n",
       "      <td>AE227JDSITNZTCFXJ4I5EOSTSPIA</td>\n",
       "    </tr>\n",
       "    <tr>\n",
       "      <th>98</th>\n",
       "      <td>2 yrs of using this</td>\n",
       "      <td>AE226SF3TKR7HA22DHEPFTEG222A</td>\n",
       "    </tr>\n",
       "    <tr>\n",
       "      <th>8248</th>\n",
       "      <td>Tastes amazing!!</td>\n",
       "      <td>AE222OYTMX3J5QUE3PV6JPTAQEVQ</td>\n",
       "    </tr>\n",
       "  </tbody>\n",
       "</table>\n",
       "<p>10979 rows × 2 columns</p>\n",
       "</div>"
      ],
      "text/plain": [
       "                                                   title  \\\n",
       "9407   Vitamin B complex is a very important part of ...   \n",
       "10149                         buring in my eyes and face   \n",
       "423            Always looking for good brain supplements   \n",
       "9534   We went around the world taking their suppleme...   \n",
       "738                               Bathroom need to have.   \n",
       "...                                                  ...   \n",
       "4216                                Highly disappointed!   \n",
       "9805   Works great, will be ordering much more in the...   \n",
       "7780                           Sleek scale easy to read.   \n",
       "98                                   2 yrs of using this   \n",
       "8248                                    Tastes amazing!!   \n",
       "\n",
       "                            user_id  \n",
       "9407   AHZZJQYNVZUJNPNQ737ITGEQUB4A  \n",
       "10149  AHZZ3OXGITJ7DEORAZDDUCOSHP4A  \n",
       "423    AHZYYKIMBFCUASJX5QLJDRX36NEA  \n",
       "9534   AHZYXESPV7CW3O6NSCFQW5PJKEHQ  \n",
       "738    AHZYTGDSMINB2SHIDTW5Z3OEGTAA  \n",
       "...                             ...  \n",
       "4216   AE23LU6FD4Q7TJN6VDIX4E4ZOKRA  \n",
       "9805   AE22EF57IWBRYFUCRPUY7NUT2H5Q  \n",
       "7780   AE227JDSITNZTCFXJ4I5EOSTSPIA  \n",
       "98     AE226SF3TKR7HA22DHEPFTEG222A  \n",
       "8248   AE222OYTMX3J5QUE3PV6JPTAQEVQ  \n",
       "\n",
       "[10979 rows x 2 columns]"
      ]
     },
     "execution_count": 12,
     "metadata": {},
     "output_type": "execute_result"
    }
   ],
   "source": [
    "df.groupby(['title'], as_index=False)['user_id'].sum().sort_values(by='user_id',ascending=False)"
   ]
  },
  {
   "cell_type": "code",
   "execution_count": 14,
   "id": "c3cdc006-be28-4261-adc1-0bbce99312d9",
   "metadata": {},
   "outputs": [
    {
     "data": {
      "text/html": [
       "<div>\n",
       "<style scoped>\n",
       "    .dataframe tbody tr th:only-of-type {\n",
       "        vertical-align: middle;\n",
       "    }\n",
       "\n",
       "    .dataframe tbody tr th {\n",
       "        vertical-align: top;\n",
       "    }\n",
       "\n",
       "    .dataframe thead th {\n",
       "        text-align: right;\n",
       "    }\n",
       "</style>\n",
       "<table border=\"1\" class=\"dataframe\">\n",
       "  <thead>\n",
       "    <tr style=\"text-align: right;\">\n",
       "      <th></th>\n",
       "      <th>verified_purchase</th>\n",
       "      <th>user_id</th>\n",
       "    </tr>\n",
       "  </thead>\n",
       "  <tbody>\n",
       "    <tr>\n",
       "      <th>0</th>\n",
       "      <td>True</td>\n",
       "      <td>AGDVFFLJWAQ3ULNNKF4LXID2RVSQAG3BSKXHDGP6E3EGQD...</td>\n",
       "    </tr>\n",
       "  </tbody>\n",
       "</table>\n",
       "</div>"
      ],
      "text/plain": [
       "   verified_purchase                                            user_id\n",
       "0               True  AGDVFFLJWAQ3ULNNKF4LXID2RVSQAG3BSKXHDGP6E3EGQD..."
      ]
     },
     "execution_count": 14,
     "metadata": {},
     "output_type": "execute_result"
    }
   ],
   "source": [
    "df.groupby(['verified_purchase'], as_index=False)['user_id'].sum().sort_values(by='user_id', ascending=False)"
   ]
  },
  {
   "cell_type": "code",
   "execution_count": null,
   "id": "99cce6e8-eadb-4184-99d5-651b870242e6",
   "metadata": {},
   "outputs": [],
   "source": []
  }
 ],
 "metadata": {
  "kernelspec": {
   "display_name": "Python 3 (ipykernel)",
   "language": "python",
   "name": "python3"
  },
  "language_info": {
   "codemirror_mode": {
    "name": "ipython",
    "version": 3
   },
   "file_extension": ".py",
   "mimetype": "text/x-python",
   "name": "python",
   "nbconvert_exporter": "python",
   "pygments_lexer": "ipython3",
   "version": "3.12.7"
  }
 },
 "nbformat": 4,
 "nbformat_minor": 5
}
